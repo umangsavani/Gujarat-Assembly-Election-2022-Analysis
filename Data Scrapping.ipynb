{
 "cells": [
  {
   "cell_type": "code",
   "execution_count": 1,
   "id": "c1169d8a",
   "metadata": {},
   "outputs": [],
   "source": [
    "#pip install beautifulsoup4"
   ]
  },
  {
   "cell_type": "code",
   "execution_count": 2,
   "id": "c10c18b2",
   "metadata": {
    "scrolled": true
   },
   "outputs": [],
   "source": [
    "import pandas as pd\n",
    "import numpy as np\n",
    "\n",
    "import requests\n",
    "from bs4 import BeautifulSoup"
   ]
  },
  {
   "cell_type": "code",
   "execution_count": 3,
   "id": "a1905cbc",
   "metadata": {},
   "outputs": [],
   "source": [
    "def table_data(dataset,N):\n",
    "    for i in range(1,N+1):\n",
    "        \n",
    "        url = f'https://results.eci.gov.in/ResultAcGenDec2022/ConstituencywiseS06{i}.htm?ac={i}'\n",
    "        r = requests.get(url)\n",
    "        soup = BeautifulSoup(r.text,'lxml')\n",
    "\n",
    "        \n",
    "        titles = soup.find_all(\"th\")\n",
    "        header = []\n",
    "        for i in titles:\n",
    "            name = i.text\n",
    "            header.append(name)\n",
    "\n",
    "        df = pd.DataFrame(columns=header)\n",
    "\n",
    "        table_rows = soup.find_all('tr',style=\"font-size:12px;\")\n",
    "\n",
    "        for i in table_rows:\n",
    "            data = i.find_all(\"td\")\n",
    "            row = [tr.text for tr in data]\n",
    "            l = len(df)\n",
    "            df.loc[l] = row\n",
    "        \n",
    "        Vidhan_Sabha_Name = soup.find_all(\"tr\", style=\"height: 20px; background-color:#FFC0CD; color:Black; font-weight: bold\")[0]\n",
    "        Vidhan_Sabha_Name = Vidhan_Sabha_Name.text.strip()\n",
    "        df[\"Vidhan_Sabha_Name\"] = pd.Series([Vidhan_Sabha_Name for i in range(len(df))])\n",
    "\n",
    "        frame = [dataset,df]\n",
    "        dataset = pd.concat(frame,ignore_index=True)\n",
    "    \n",
    "    return dataset"
   ]
  },
  {
   "cell_type": "code",
   "execution_count": 4,
   "id": "4616d96e",
   "metadata": {},
   "outputs": [],
   "source": [
    "r = requests.get(\"https://results.eci.gov.in/ResultAcGenDec2022/ConstituencywiseS061.htm?ac=1\")\n",
    "soup = BeautifulSoup(r.text,'lxml')\n",
    "titles = soup.find_all(\"th\")\n",
    "header = []\n",
    "for i in titles:\n",
    "    name = i.text\n",
    "    header.append(name)\n",
    "    \n",
    "dataset = pd.DataFrame(columns=header)\n",
    "dataset['Vidhan_Sabha_Name'] = \"\""
   ]
  },
  {
   "cell_type": "code",
   "execution_count": 5,
   "id": "bc4b84d9",
   "metadata": {},
   "outputs": [],
   "source": [
    "N = 182\n",
    "dataset = table_data(dataset,N)\n",
    "\n",
    "#dataset.to_csv('gujart_election.csv',index=False)"
   ]
  },
  {
   "cell_type": "code",
   "execution_count": null,
   "id": "ab4f1b82",
   "metadata": {},
   "outputs": [],
   "source": []
  }
 ],
 "metadata": {
  "kernelspec": {
   "display_name": "Python 3 (ipykernel)",
   "language": "python",
   "name": "python3"
  },
  "language_info": {
   "codemirror_mode": {
    "name": "ipython",
    "version": 3
   },
   "file_extension": ".py",
   "mimetype": "text/x-python",
   "name": "python",
   "nbconvert_exporter": "python",
   "pygments_lexer": "ipython3",
   "version": "3.9.12"
  }
 },
 "nbformat": 4,
 "nbformat_minor": 5
}
